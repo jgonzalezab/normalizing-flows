{
 "cells": [
  {
   "cell_type": "code",
   "execution_count": 80,
   "metadata": {},
   "outputs": [],
   "source": [
    "# https://siboehm.com/articles/19/normalizing-flow-network"
   ]
  },
  {
   "cell_type": "code",
   "execution_count": 1,
   "metadata": {},
   "outputs": [],
   "source": [
    "import numpy as np\n",
    "import matplotlib.pyplot as plt\n",
    "\n",
    "import scipy.stats as stats"
   ]
  },
  {
   "cell_type": "markdown",
   "metadata": {},
   "source": [
    "## Normalizing Flows (1D example)"
   ]
  },
  {
   "cell_type": "markdown",
   "metadata": {},
   "source": [
    "Suppose we want to model the density of a variable $X$ based on some samples $x_i$. What we usually do is assume that $X$ follows a known distribution (e.g Gaussian) and estimate the value of the paremeters that achieve the best fit (maximize the likelihood). The main limitation of this approach is that we need to assume some prior distribution, which not always reflect the complexity of the target distribution\n",
    "\n",
    "What if we could fit the data to more complex and a priori unknown distributions? This is basically what Normalizing Flows (NF) do. Let's grasp the idea of NFs through a little example."
   ]
  },
  {
   "cell_type": "markdown",
   "metadata": {},
   "source": [
    "Suppose we have a variable $X_1$ who follows a Gaussian distribution $p$ with $\\mu=0$ and $\\sigma=1$"
   ]
  },
  {
   "cell_type": "code",
   "execution_count": 2,
   "metadata": {},
   "outputs": [
    {
     "data": {
      "text/plain": [
       "[<matplotlib.lines.Line2D at 0x7f8f2034ed30>]"
      ]
     },
     "execution_count": 2,
     "metadata": {},
     "output_type": "execute_result"
    },
    {
     "data": {
      "image/png": "[encoded data removed]",
      "text/plain": [
       "<Figure size 432x288 with 1 Axes>"
      ]
     },
     "metadata": {
      "needs_background": "light"
     },
     "output_type": "display_data"
    }
   ],
   "source": [
    "X1 = np.random.normal(loc = 0, scale = 1, size = 10000)\n",
    "density_X1 = stats.gaussian_kde(X1)\n",
    "\n",
    "n, x, _ = plt.hist(X1, bins = np.linspace(-2, 2, 50), \n",
    "                   histtype = u'step', density = True)\n",
    "plt.plot(x, density_X1(x))"
   ]
  },
  {
   "cell_type": "markdown",
   "metadata": {},
   "source": [
    "Let's define the function $f(x)=\\frac{1}{3}x$"
   ]
  },
  {
   "cell_type": "code",
   "execution_count": 3,
   "metadata": {},
   "outputs": [],
   "source": [
    "def f(x):\n",
    "    return (1/3) * x"
   ]
  },
  {
   "cell_type": "markdown",
   "metadata": {},
   "source": [
    "If we apply this function to X1 we get a narrower Gaussian $q$ who corresponds with the parameters $\\mu=0$ and $\\sigma=1/3$"
   ]
  },
  {
   "cell_type": "code",
   "execution_count": 4,
   "metadata": {},
   "outputs": [
    {
     "data": {
      "text/plain": [
       "[<matplotlib.lines.Line2D at 0x7f8f20245a60>]"
      ]
     },
     "execution_count": 4,
     "metadata": {},
     "output_type": "execute_result"
    },
    {
     "data": {
      "image/png": "[encoded data removed]",
      "text/plain": [
       "<Figure size 432x288 with 1 Axes>"
      ]
     },
     "metadata": {
      "needs_background": "light"
     },
     "output_type": "display_data"
    }
   ],
   "source": [
    "X2 = f(X1)\n",
    "density_X2 = stats.gaussian_kde(X2)\n",
    "\n",
    "n, x, _ = plt.hist(X2, bins = np.linspace(-2, 2, 50), \n",
    "                   histtype = u'step', density = True)\n",
    "plt.plot(x, density_X2(x))"
   ]
  },
  {
   "cell_type": "markdown",
   "metadata": {},
   "source": [
    "We have performed a transformation to the initial distribution ($p$) obtaining a different one ($q$). What if I want to know the density of this new distribution? (assuming we are not able to know that $\\mu=0$ and $\\sigma=1/3$)\n",
    "\n",
    "Well, $f$ is invertible so $f^{-1}(x)=3x$"
   ]
  },
  {
   "cell_type": "code",
   "execution_count": 5,
   "metadata": {},
   "outputs": [],
   "source": [
    "def f_inv(x):\n",
    "    return 3*x"
   ]
  },
  {
   "cell_type": "markdown",
   "metadata": {},
   "source": [
    "With this we can recover the value of a sample $x_1$ given $x_2$ $\\rightarrow$ $x_1=f^{-1}(x_2)$"
   ]
  },
  {
   "cell_type": "code",
   "execution_count": 6,
   "metadata": {},
   "outputs": [
    {
     "name": "stdout",
     "output_type": "stream",
     "text": [
      "x1 sample: -0.9255\n",
      "x2: -0.3085\n",
      "recovered x1: -0.9255\n"
     ]
    }
   ],
   "source": [
    "x1 = np.random.normal(loc = 0, scale = 1)\n",
    "print('x1 sample: {0:0.4f}'.format(x1))\n",
    "\n",
    "x2 = f(x1)\n",
    "print('x2: {0:0.4f}'.format(x2))\n",
    "\n",
    "print('recovered x1: {0:0.4f}'.format(f_inv(x2)))"
   ]
  },
  {
   "cell_type": "markdown",
   "metadata": {},
   "source": [
    "We could think that $q(x_2)=p(f^{-1}(x_2))$"
   ]
  },
  {
   "cell_type": "code",
   "execution_count": 8,
   "metadata": {},
   "outputs": [
    {
     "name": "stdout",
     "output_type": "stream",
     "text": [
      "p(f_inv(x2)): 0.2600\n",
      "true q(x2): 0.7799\n"
     ]
    }
   ],
   "source": [
    "x2_inv_prob = stats.norm(0, 1).pdf(f_inv(x2))\n",
    "print('p(f_inv(x2)): {0:0.4f}'.format(x2_inv_prob))\n",
    "\n",
    "x2_true_prob = stats.norm(0, 1/3).pdf(x2)\n",
    "print('true q(x2): {0:0.4f}'.format(x2_true_prob))"
   ]
  },
  {
   "cell_type": "markdown",
   "metadata": {},
   "source": [
    "What we can see how this is not true. To this to be possible  we also need to take into account the transformation we made on the density through $f$. This can be done by multiplying the previous result with $|\\frac{\\partial f^{-1}}{\\partial y}| = |\\frac{\\partial f}{\\partial x}|^{-1}$"
   ]
  },
  {
   "cell_type": "code",
   "execution_count": 9,
   "metadata": {},
   "outputs": [],
   "source": [
    "def df_inv(x):\n",
    "    return 3"
   ]
  },
  {
   "cell_type": "code",
   "execution_count": 10,
   "metadata": {},
   "outputs": [
    {
     "name": "stdout",
     "output_type": "stream",
     "text": [
      "true q(x2): 0.7799\n",
      "estimated q(x2): 0.7799\n"
     ]
    }
   ],
   "source": [
    "print('true q(x2): {0:0.4f}'.format(x2_true_prob))\n",
    "\n",
    "x2_correct_prob = stats.norm(0, 1).pdf(f_inv(x2)) * np.abs(df_inv(x2))\n",
    "print('estimated q(x2): {0:0.4f}'.format(x2_correct_prob))"
   ]
  },
  {
   "cell_type": "markdown",
   "metadata": {},
   "source": [
    "Now we can recover the density of $q$ just knowing the density of $x$ and the transformation applied. Of course for this to work we need $f$ to be differentiable and invertible.\n",
    "\n",
    "What be achieved applying function $f$ is generate a new density function $q$ wich was a transformation of $p$. Given the properties of $f$ we can sample and compute likelihood on $q$ without knowing its analitcal formula.\n",
    "\n",
    "This idea opens the door to the modelling of complex distributions based on simple ones by a concatenation of differentiable and invertible transformation :)"
   ]
  },
  {
   "cell_type": "markdown",
   "metadata": {},
   "source": [
    "#### References\n",
    "\n",
    "[1] Simon Boehm, *The Normalizing Flow Network* (https://siboehm.com/articles/19/normalizing-flow-network)"
   ]
  }
 ],
 "metadata": {
  "kernelspec": {
   "display_name": "base",
   "language": "python",
   "name": "base"
  },
  "language_info": {
   "codemirror_mode": {
    "name": "ipython",
    "version": 3
   },
   "file_extension": ".py",
   "mimetype": "text/x-python",
   "name": "python",
   "nbconvert_exporter": "python",
   "pygments_lexer": "ipython3",
   "version": "3.8.8"
  }
 },
 "nbformat": 4,
 "nbformat_minor": 4
}
