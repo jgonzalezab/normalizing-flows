{
 "cells": [
  {
   "cell_type": "code",
   "execution_count": 80,
   "metadata": {},
   "outputs": [],
   "source": [
    "# https://siboehm.com/articles/19/normalizing-flow-network"
   ]
  },
  {
   "cell_type": "code",
   "execution_count": null,
   "metadata": {},
   "outputs": [],
   "source": [
    "import numpy as np\n",
    "import matplotlib.pyplot as plt\n",
    "\n",
    "import scipy.stats as stats\n",
    "from sklearn import datasets"
   ]
  },
  {
   "cell_type": "code",
   "execution_count": 94,
   "metadata": {},
   "outputs": [
    {
     "data": {
      "text/plain": [
       "[<matplotlib.lines.Line2D at 0x7f4aeafd6510>]"
      ]
     },
     "execution_count": 94,
     "metadata": {},
     "output_type": "execute_result"
    },
    {
     "data": {
      "image/png": "[encoded data removed]",
      "text/plain": [
       "<Figure size 432x288 with 1 Axes>"
      ]
     },
     "metadata": {
      "needs_background": "light"
     },
     "output_type": "display_data"
    }
   ],
   "source": [
    "# N(0, 1) (Know)\n",
    "X1 = np.random.normal(loc = 0, scale = 1, size = 10000)\n",
    "density_X = stats.gaussian_kde(X1)\n",
    "\n",
    "n, x, _ = plt.hist(X1, bins = np.linspace(-2, 2, 50), \n",
    "                   histtype = u'step', density = True)\n",
    "plt.plot(x, density_X(x))"
   ]
  },
  {
   "cell_type": "code",
   "execution_count": 95,
   "metadata": {},
   "outputs": [],
   "source": [
    "def f(x):\n",
    "    return x/3"
   ]
  },
  {
   "cell_type": "code",
   "execution_count": 96,
   "metadata": {},
   "outputs": [
    {
     "data": {
      "text/plain": [
       "[<matplotlib.lines.Line2D at 0x7f4aeaf43810>]"
      ]
     },
     "execution_count": 96,
     "metadata": {},
     "output_type": "execute_result"
    },
    {
     "data": {
      "image/png": "[encoded data removed]",
      "text/plain": [
       "<Figure size 432x288 with 1 Axes>"
      ]
     },
     "metadata": {
      "needs_background": "light"
     },
     "output_type": "display_data"
    }
   ],
   "source": [
    "# N(0, 1/3) (Unknow)\n",
    "X2 = f(X1)\n",
    "density_X2 = stats.gaussian_kde(X2)\n",
    "\n",
    "n, x, _ = plt.hist(X2, bins = np.linspace(-2, 2, 50), \n",
    "                   histtype = u'step', density = True)\n",
    "plt.plot(x, density_X2(x))"
   ]
  },
  {
   "cell_type": "code",
   "execution_count": 97,
   "metadata": {},
   "outputs": [],
   "source": [
    "def f_inv(x):\n",
    "    return x*3"
   ]
  },
  {
   "cell_type": "code",
   "execution_count": 109,
   "metadata": {},
   "outputs": [
    {
     "data": {
      "text/plain": [
       "array([ True,  True,  True, ...,  True,  True,  True])"
      ]
     },
     "execution_count": 109,
     "metadata": {},
     "output_type": "execute_result"
    }
   ],
   "source": [
    "np.round(X1, 5) == np.round(f_inv(X2), 5)"
   ]
  },
  {
   "cell_type": "code",
   "execution_count": 120,
   "metadata": {},
   "outputs": [
    {
     "name": "stdout",
     "output_type": "stream",
     "text": [
      "-1.2643893826005512\n",
      "-0.42146312753351706\n"
     ]
    }
   ],
   "source": [
    "# How can I sample from X2? (Given some X1 value)\n",
    "x1 = np.random.normal(loc = 0, scale = 1)\n",
    "print(x1)\n",
    "\n",
    "x2 = f(x1)\n",
    "print(x2)"
   ]
  },
  {
   "cell_type": "code",
   "execution_count": 115,
   "metadata": {},
   "outputs": [],
   "source": [
    "# Same value has different probabilitiy on X2 because with transformation f we\n",
    "# have changed its density"
   ]
  },
  {
   "cell_type": "code",
   "execution_count": 121,
   "metadata": {},
   "outputs": [
    {
     "name": "stdout",
     "output_type": "stream",
     "text": [
      "-1.2643893826005512\n",
      "-1.2643893826005512\n"
     ]
    }
   ],
   "source": [
    "# We can recover the x1 from the generated x2\n",
    "x1_recov = f_inv(x2)\n",
    "\n",
    "print(x1)\n",
    "print(x1_recov)"
   ]
  },
  {
   "cell_type": "code",
   "execution_count": null,
   "metadata": {},
   "outputs": [],
   "source": [
    "# We can do this because f is invertible"
   ]
  },
  {
   "cell_type": "code",
   "execution_count": 117,
   "metadata": {},
   "outputs": [],
   "source": [
    "# How can we compute the likelihood of x2 (on X2)?\n",
    "# The distribution behind this density is unknown because we generated\n",
    "# through a transformation"
   ]
  },
  {
   "cell_type": "code",
   "execution_count": 119,
   "metadata": {},
   "outputs": [
    {
     "data": {
      "text/plain": [
       "0.10348300234589367"
      ]
     },
     "execution_count": 119,
     "metadata": {},
     "output_type": "execute_result"
    }
   ],
   "source": [
    "# We could evaluate x1_sample_recov on X1\n",
    "stats.norm(0, 1).pdf(x1_sample_recov)"
   ]
  },
  {
   "cell_type": "code",
   "execution_count": null,
   "metadata": {},
   "outputs": [],
   "source": [
    "# But this is not valid cause density in X2 differs from the one of X1"
   ]
  },
  {
   "cell_type": "code",
   "execution_count": 122,
   "metadata": {},
   "outputs": [],
   "source": [
    "# Density has been compressed so values near the mean on X2 would be more probable\n",
    "# than those of X1"
   ]
  },
  {
   "cell_type": "code",
   "execution_count": 123,
   "metadata": {},
   "outputs": [],
   "source": [
    "# We need to take into account this change"
   ]
  },
  {
   "cell_type": "code",
   "execution_count": 125,
   "metadata": {},
   "outputs": [],
   "source": [
    "# We include this change through the derivative of f_inv wrt x2. This represents the change\n",
    "# associated with f\n",
    "def df_inv(x):\n",
    "    return 3"
   ]
  },
  {
   "cell_type": "code",
   "execution_count": 132,
   "metadata": {},
   "outputs": [
    {
     "data": {
      "text/plain": [
       "0.5381238720088907"
      ]
     },
     "execution_count": 132,
     "metadata": {},
     "output_type": "execute_result"
    }
   ],
   "source": [
    "# The likelihood of a sample x2 is then:\n",
    "# Likelihood of x2 under X1 * the detransformation on the density\n",
    "stats.norm(0, 1).pdf(f_inv(x2)) * np.abs(df_inv(x2))"
   ]
  },
  {
   "cell_type": "code",
   "execution_count": 131,
   "metadata": {},
   "outputs": [
    {
     "data": {
      "text/plain": [
       "0.5381238720088907"
      ]
     },
     "execution_count": 131,
     "metadata": {},
     "output_type": "execute_result"
    }
   ],
   "source": [
    "# Which correspond to the true likelihood:\n",
    "stats.norm(0, 1/3).pdf(x2)"
   ]
  }
 ],
 "metadata": {
  "kernelspec": {
   "display_name": "Python [conda env:pytorch-GPU]",
   "language": "python",
   "name": "conda-env-pytorch-GPU-py"
  },
  "language_info": {
   "codemirror_mode": {
    "name": "ipython",
    "version": 3
   },
   "file_extension": ".py",
   "mimetype": "text/x-python",
   "name": "python",
   "nbconvert_exporter": "python",
   "pygments_lexer": "ipython3",
   "version": "3.7.7"
  }
 },
 "nbformat": 4,
 "nbformat_minor": 4
}
